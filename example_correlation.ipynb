{
  "nbformat": 4,
  "nbformat_minor": 0,
  "metadata": {
    "colab": {
      "provenance": [],
      "include_colab_link": true
    },
    "language_info": {
      "name": "python"
    },
    "kernelspec": {
      "name": "python3",
      "display_name": "Python 3"
    },
    "gpuClass": "standard"
  },
  "cells": [
    {
      "cell_type": "markdown",
      "metadata": {
        "id": "view-in-github",
        "colab_type": "text"
      },
      "source": [
        "<a href=\"https://colab.research.google.com/github/A-Arhami/Cross-Correlation/blob/main/example_correlation.ipynb\" target=\"_parent\"><img src=\"https://colab.research.google.com/assets/colab-badge.svg\" alt=\"Open In Colab\"/></a>"
      ]
    },
    {
      "cell_type": "code",
      "source": [
        "# For a Python script add \n",
        "# \"#!/usr/bin/env python\"\n",
        "# as the first line, then paste everything below it.\n",
        "\n",
        "import scipy as sp\n",
        "import matplotlib.pyplot as plt\n",
        "import pandas as pd"
      ],
      "outputs": [],
      "metadata": {
        "id": "ryBBlJ8FoLA9"
      },
      "execution_count": 1
    },
    {
      "cell_type": "code",
      "source": [
        "def Plot(l1,name1,l2,name2,corr):\n",
        "    plt.figure()\n",
        "    plt.scatter(l1,l2,label=\"%s,%s: %0.3f\" % (name1,name2,corr))\n",
        "    plt.xlabel(name1)\n",
        "    plt.ylabel(name2)\n",
        "    plt.legend(loc='upper left')\n",
        "    plt.savefig(\"D:/ipython_stuff/files/%s_%s_%0.3f.png\" % (name1,name2,corr))\n",
        "    plt.show()\n"
      ],
      "outputs": [],
      "metadata": {
        "id": "L7X-FMweoLBH"
      },
      "execution_count": 2
    },
    {
      "cell_type": "code",
      "source": [
        "data=pd.read_csv('D:/ipython_stuff/files/cross_corelation.csv')"
      ],
      "outputs": [],
      "metadata": {
        "id": "_y4PsXpEoLBJ"
      },
      "execution_count": 3
    },
    {
      "cell_type": "code",
      "source": [
        "props=['E','S','A','B','L']\n",
        "length=len(props)"
      ],
      "outputs": [],
      "metadata": {
        "id": "npRUhS98oLBJ"
      },
      "execution_count": null
    },
    {
      "cell_type": "code",
      "source": [
        "for i in range(0,length):\n",
        "    for j in range(i+1,length):\n",
        "        first = props[i]\n",
        "        second = props[j]\n",
        "        d1=data[first]\n",
        "        d2=data[second]\n",
        "        pearsonr,pvalue=sp.stats.pearsonr(d1,d2)\n",
        "        spearmanr,pvalue=sp.stats.spearmanr(d1,d2)\n",
        "        kendalltau,pvalue=sp.stats.kendalltau(d1,d2)\n",
        "        print first,second,round(pearsonr,4),round(spearmanr,4),round(kendalltau,4)\n",
        "#        Plot(d1,first,d2,second,round(pearsonr,3))\n"
      ],
      "outputs": [
        {
          "output_type": "stream",
          "text": [
            "E S 0.714 0.7433 0.5254\n",
            "E A 0.3284 0.3066 0.2401\n",
            "E B -0.0714 -0.051 -0.0194\n",
            "E L 0.3374 0.2991 0.2307\n",
            "S A 0.219 0.1223 0.0821\n",
            "S B 0.3445 0.171 0.1172\n",
            "S L 0.1458 0.3092 0.2314\n",
            "A B 0.2159 0.2792 0.2104\n",
            "A L 0.106 0.0038 -0.0002\n",
            "B"
          ],
          "name": "stdout"
        },
        {
          "output_type": "stream",
          "text": [
            " L -0.2219 -0.1304 -0.0857\n"
          ],
          "name": "stdout"
        }
      ],
      "metadata": {
        "id": "uVgqryt9oLBK",
        "outputId": "04250a73-f1f3-4c33-91bb-f3dac340da16"
      },
      "execution_count": null
    },
    {
      "cell_type": "code",
      "source": [],
      "outputs": [],
      "metadata": {
        "id": "ySaFJVIBoLBM"
      },
      "execution_count": null
    }
  ]
}